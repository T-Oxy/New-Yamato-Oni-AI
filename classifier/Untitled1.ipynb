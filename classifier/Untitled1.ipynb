{
 "cells": [
  {
   "cell_type": "code",
   "execution_count": 1,
   "metadata": {},
   "outputs": [],
   "source": [
    "#ラベリングによる学習/検証データの準備\n",
    "from PIL import Image\n",
    "import os, glob\n",
    "import numpy as np\n",
    "import random, math\n",
    "\n",
    "#画像が保存されているディレクトリのパス\n",
    "root_dir = \"./img2\"\n",
    "categories = [\"demon\",\"human\"]\n",
    "\n",
    "# 画像データ用配列\n",
    "X = []\n",
    "# ラベルデータ用配列\n",
    "Y = []\n",
    "\n",
    "#画像データごとにadd_sample()を呼び出し、X,Yの配列を返す関数\n",
    "def make_sample(files):\n",
    "    global X, Y\n",
    "    X = []\n",
    "    Y = []\n",
    "    for cat, fname in files:\n",
    "        add_sample(cat, fname)\n",
    "    return np.array(X), np.array(Y)\n",
    "\n",
    "#渡された画像データを読み込んでXに格納し、また、\n",
    "#画像データに対応するcategoriesのidxをY格納する関数\n",
    "def add_sample(cat, fname):\n",
    "    img = Image.open(fname)\n",
    "    img = img.convert(\"RGB\")\n",
    "    img = img.resize((128, 128))\n",
    "    data = np.asarray(img)\n",
    "    X.append(data)\n",
    "    Y.append(cat)\n",
    "\n",
    "#全データ格納用配列\n",
    "allfiles = []\n",
    "\n",
    "#カテゴリ配列の各値と、それに対応するidxを認識し、全データをallfilesにまとめる\n",
    "for idx, cat in enumerate(categories):\n",
    "    image_dir = root_dir + \"/\" + cat\n",
    "    files = glob.glob(image_dir + \"/*.jpeg\")\n",
    "    for f in files:\n",
    "        allfiles.append((idx, f))\n",
    "\n",
    "#シャッフル後、学習データと検証データに分ける\n",
    "random.shuffle(allfiles)\n",
    "th = math.floor(len(allfiles) * 0.8)\n",
    "train = allfiles[0:th]\n",
    "test  = allfiles[th:]\n",
    "X_train, y_train = make_sample(train)\n",
    "X_test, y_test = make_sample(test)\n",
    "xy = (X_train, X_test, y_train, y_test)\n",
    "#データを保存する\n",
    "np.save(\"./ttdata/d_or_h_data_2.npy\", xy)\n"
   ]
  },
  {
   "cell_type": "code",
   "execution_count": 2,
   "metadata": {},
   "outputs": [
    {
     "name": "stdout",
     "output_type": "stream",
     "text": [
      "Model: \"sequential\"\n",
      "_________________________________________________________________\n",
      "Layer (type)                 Output Shape              Param #   \n",
      "=================================================================\n",
      "conv2d (Conv2D)              (None, 126, 126, 32)      896       \n",
      "_________________________________________________________________\n",
      "max_pooling2d (MaxPooling2D) (None, 63, 63, 32)        0         \n",
      "_________________________________________________________________\n",
      "conv2d_1 (Conv2D)            (None, 61, 61, 64)        18496     \n",
      "_________________________________________________________________\n",
      "max_pooling2d_1 (MaxPooling2 (None, 30, 30, 64)        0         \n",
      "_________________________________________________________________\n",
      "conv2d_2 (Conv2D)            (None, 28, 28, 128)       73856     \n",
      "_________________________________________________________________\n",
      "max_pooling2d_2 (MaxPooling2 (None, 14, 14, 128)       0         \n",
      "_________________________________________________________________\n",
      "conv2d_3 (Conv2D)            (None, 12, 12, 128)       147584    \n",
      "_________________________________________________________________\n",
      "max_pooling2d_3 (MaxPooling2 (None, 6, 6, 128)         0         \n",
      "_________________________________________________________________\n",
      "flatten (Flatten)            (None, 4608)              0         \n",
      "_________________________________________________________________\n",
      "dropout (Dropout)            (None, 4608)              0         \n",
      "_________________________________________________________________\n",
      "dense (Dense)                (None, 512)               2359808   \n",
      "_________________________________________________________________\n",
      "dense_1 (Dense)              (None, 2)                 1026      \n",
      "=================================================================\n",
      "Total params: 2,601,666\n",
      "Trainable params: 2,601,666\n",
      "Non-trainable params: 0\n",
      "_________________________________________________________________\n"
     ]
    }
   ],
   "source": [
    "from keras import layers, models\n",
    "\n",
    "model = models.Sequential()\n",
    "model.add(layers.Conv2D(32,(3,3),activation=\"relu\",input_shape=(128,128,3)))\n",
    "model.add(layers.MaxPooling2D((2,2)))\n",
    "model.add(layers.Conv2D(64,(3,3),activation=\"relu\"))\n",
    "model.add(layers.MaxPooling2D((2,2)))\n",
    "model.add(layers.Conv2D(128,(3,3),activation=\"relu\"))\n",
    "model.add(layers.MaxPooling2D((2,2)))\n",
    "model.add(layers.Conv2D(128,(3,3),activation=\"relu\"))\n",
    "model.add(layers.MaxPooling2D((2,2)))\n",
    "model.add(layers.Flatten())\n",
    "# 過学習抑制のためdropoutを追加\n",
    "model.add(layers.Dropout(0.5))\n",
    "\n",
    "model.add(layers.Dense(512,activation=\"relu\"))\n",
    "model.add(layers.Dense(2,activation=\"sigmoid\")) #分類先の種類分(ここでは2種類)設定\n",
    "#モデル構成の確認\n",
    "model.summary()\n"
   ]
  },
  {
   "cell_type": "code",
   "execution_count": 3,
   "metadata": {},
   "outputs": [],
   "source": [
    "#モデルのコンパイル\n",
    "from keras import optimizers\n",
    "\n",
    "model.compile(loss=\"binary_crossentropy\",\n",
    "              optimizer=optimizers.RMSprop(lr=1e-4),\n",
    "              metrics=[\"acc\"])\n",
    "\n",
    "#データの準備\n",
    "from keras.utils import np_utils\n",
    "import numpy as np\n",
    "\n",
    "categories = [\"demon\",\"human\"]\n",
    "nb_classes = len(categories)\n",
    "\n",
    "X_train, X_test, y_train, y_test = np.load(\"./ttdata/d_or_h_data_2.npy\", allow_pickle=True)\n",
    "\n",
    "#データの正規化\n",
    "X_train = X_train.astype(\"float\") / 255\n",
    "X_test  = X_test.astype(\"float\")  / 255\n",
    "\n",
    "#kerasで扱えるようにcategoriesをベクトルに変換\n",
    "y_train = np_utils.to_categorical(y_train, nb_classes)\n",
    "y_test  = np_utils.to_categorical(y_test, nb_classes)\n"
   ]
  },
  {
   "cell_type": "code",
   "execution_count": 4,
   "metadata": {},
   "outputs": [
    {
     "name": "stdout",
     "output_type": "stream",
     "text": [
      "Epoch 1/15\n",
      "228/228 [==============================] - 233s 1s/step - loss: 0.3990 - acc: 0.8404 - val_loss: 0.3524 - val_acc: 0.8668\n",
      "Epoch 2/15\n",
      "228/228 [==============================] - 195s 856ms/step - loss: 0.2548 - acc: 0.9129 - val_loss: 0.2353 - val_acc: 0.9163\n",
      "Epoch 3/15\n",
      "228/228 [==============================] - 163s 714ms/step - loss: 0.2234 - acc: 0.9236 - val_loss: 0.4683 - val_acc: 0.7980\n",
      "Epoch 4/15\n",
      "228/228 [==============================] - 157s 688ms/step - loss: 0.1921 - acc: 0.9370 - val_loss: 0.6395 - val_acc: 0.7127\n",
      "Epoch 5/15\n",
      "228/228 [==============================] - 158s 695ms/step - loss: 0.1727 - acc: 0.9415 - val_loss: 0.1653 - val_acc: 0.9428\n",
      "Epoch 6/15\n",
      "228/228 [==============================] - 157s 688ms/step - loss: 0.1580 - acc: 0.9459 - val_loss: 0.1377 - val_acc: 0.9505\n",
      "Epoch 7/15\n",
      "228/228 [==============================] - 153s 673ms/step - loss: 0.1406 - acc: 0.9513 - val_loss: 0.1258 - val_acc: 0.9543\n",
      "Epoch 8/15\n",
      "228/228 [==============================] - 149s 655ms/step - loss: 0.1300 - acc: 0.9535 - val_loss: 0.1309 - val_acc: 0.9538\n",
      "Epoch 9/15\n",
      "228/228 [==============================] - 163s 715ms/step - loss: 0.1192 - acc: 0.9575 - val_loss: 0.1687 - val_acc: 0.9395\n",
      "Epoch 10/15\n",
      "228/228 [==============================] - 241s 1s/step - loss: 0.1084 - acc: 0.9622 - val_loss: 0.1298 - val_acc: 0.9543\n",
      "Epoch 11/15\n",
      "228/228 [==============================] - 154s 677ms/step - loss: 0.0983 - acc: 0.9635 - val_loss: 0.1006 - val_acc: 0.9659\n",
      "Epoch 12/15\n",
      "228/228 [==============================] - 155s 682ms/step - loss: 0.0905 - acc: 0.9675 - val_loss: 0.0828 - val_acc: 0.9736\n",
      "Epoch 13/15\n",
      "228/228 [==============================] - 152s 665ms/step - loss: 0.0883 - acc: 0.9667 - val_loss: 0.0815 - val_acc: 0.9719\n",
      "Epoch 14/15\n",
      "228/228 [==============================] - 151s 661ms/step - loss: 0.0786 - acc: 0.9719 - val_loss: 0.0760 - val_acc: 0.9725\n",
      "Epoch 15/15\n",
      "228/228 [==============================] - 152s 669ms/step - loss: 0.0698 - acc: 0.9748 - val_loss: 0.1521 - val_acc: 0.9444\n"
     ]
    }
   ],
   "source": [
    "#モデルの学習\n",
    "model = model.fit(X_train,\n",
    "                  y_train,\n",
    "                  epochs=15,\n",
    "                  batch_size=32,\n",
    "                  validation_data=(X_test,y_test))\n"
   ]
  },
  {
   "cell_type": "code",
   "execution_count": 5,
   "metadata": {},
   "outputs": [
    {
     "data": {
      "image/png": "[encoded data removed]",
      "text/plain": [
       "<Figure size 432x288 with 1 Axes>"
      ]
     },
     "metadata": {
      "needs_background": "light"
     },
     "output_type": "display_data"
    },
    {
     "data": {
      "image/png": "[encoded data removed]",
      "text/plain": [
       "<Figure size 432x288 with 1 Axes>"
      ]
     },
     "metadata": {
      "needs_background": "light"
     },
     "output_type": "display_data"
    }
   ],
   "source": [
    "#学習結果を表示\n",
    "import matplotlib.pyplot as plt\n",
    "\n",
    "acc = model.history['acc']\n",
    "val_acc = model.history['val_acc']\n",
    "loss = model.history['loss']\n",
    "val_loss = model.history['val_loss']\n",
    "\n",
    "epochs = range(len(acc))\n",
    "\n",
    "plt.plot(epochs, acc, 'bo', label='Training acc')\n",
    "plt.plot(epochs, val_acc, 'b', label='Validation acc')\n",
    "plt.title('Training and validation accuracy')\n",
    "plt.legend()\n",
    "plt.savefig('acc_2.png')\n",
    "\n",
    "plt.figure()\n",
    "\n",
    "plt.plot(epochs, loss, 'bo', label='Training loss')\n",
    "plt.plot(epochs, val_loss, 'b', label='Validation loss')\n",
    "plt.title('Training and validation loss')\n",
    "plt.legend()\n",
    "plt.savefig('loss_2.png')\n"
   ]
  },
  {
   "cell_type": "code",
   "execution_count": 6,
   "metadata": {},
   "outputs": [],
   "source": [
    "#モデルの保存\n",
    "\n",
    "json_string = model.model.to_json()\n",
    "open('./model/d_or_h_predict.json', 'w').write(json_string)\n",
    "\n",
    "#重みの保存\n",
    "\n",
    "hdf5_file = \"./model/d_or_h_predict.hdf5\"\n",
    "model.model.save_weights(hdf5_file)\n"
   ]
  },
  {
   "cell_type": "code",
   "execution_count": 7,
   "metadata": {},
   "outputs": [],
   "source": [
    "from PIL import Image\n",
    "import os, glob\n",
    "import numpy as np\n",
    "import random, math\n",
    "\n",
    "# 画像が保存されているディレクトリのパス\n",
    "root_dir = \"./img_test\"\n",
    "# 画像が保存されているフォルダ名\n",
    "categories = [\"demon_test\",\"human_test\"]\n",
    "\n",
    "X = [] # 画像データ\n",
    "Y = [] # ラベルデータ\n",
    "\n",
    "# フォルダごとに分けられたファイルを収集\n",
    "#（categoriesのidxと、画像のファイルパスが紐づいたリストを生成）\n",
    "allfiles = []\n",
    "for idx, cat in enumerate(categories):\n",
    "    image_dir = root_dir + \"/\" + cat\n",
    "    files = glob.glob(image_dir + \"/*.jpeg\")\n",
    "    for f in files:\n",
    "        allfiles.append((idx, f))\n",
    "\n",
    "for cat, fname in allfiles:\n",
    "    img = Image.open(fname)\n",
    "    img = img.convert(\"RGB\")\n",
    "    img = img.resize((128,128))\n",
    "    data = np.asarray(img)\n",
    "    X.append(data)\n",
    "    Y.append(cat)\n",
    "\n",
    "x = np.array(X)\n",
    "y = np.array(Y)\n",
    "\n",
    "np.save(\"./test/d_or_h_data_test_X.npy\", x)\n",
    "np.save(\"./test/d_or_h_data_test_Y.npy\", y)\n"
   ]
  },
  {
   "cell_type": "code",
   "execution_count": 8,
   "metadata": {},
   "outputs": [
    {
     "ename": "NameError",
     "evalue": "name 'test_Y' is not defined",
     "output_type": "error",
     "traceback": [
      "\u001b[0;31m---------------------------------------------------------------------------\u001b[0m",
      "\u001b[0;31mNameError\u001b[0m                                 Traceback (most recent call last)",
      "\u001b[0;32m<ipython-input-8-7968d1ff9178>\u001b[0m in \u001b[0;36m<module>\u001b[0;34m\u001b[0m\n\u001b[1;32m      7\u001b[0m \u001b[0;32mfrom\u001b[0m \u001b[0mkeras\u001b[0m\u001b[0;34m.\u001b[0m\u001b[0mutils\u001b[0m \u001b[0;32mimport\u001b[0m \u001b[0mnp_utils\u001b[0m\u001b[0;34m\u001b[0m\u001b[0;34m\u001b[0m\u001b[0m\n\u001b[1;32m      8\u001b[0m \u001b[0;34m\u001b[0m\u001b[0m\n\u001b[0;32m----> 9\u001b[0;31m \u001b[0mtest_Y\u001b[0m \u001b[0;34m=\u001b[0m \u001b[0mnp_utils\u001b[0m\u001b[0;34m.\u001b[0m\u001b[0mto_categorical\u001b[0m\u001b[0;34m(\u001b[0m\u001b[0mtest_Y\u001b[0m\u001b[0;34m,\u001b[0m \u001b[0;36m2\u001b[0m\u001b[0;34m)\u001b[0m\u001b[0;34m\u001b[0m\u001b[0;34m\u001b[0m\u001b[0m\n\u001b[0m\u001b[1;32m     10\u001b[0m \u001b[0;34m\u001b[0m\u001b[0m\n\u001b[1;32m     11\u001b[0m \u001b[0mscore\u001b[0m \u001b[0;34m=\u001b[0m \u001b[0mmodel\u001b[0m\u001b[0;34m.\u001b[0m\u001b[0mmodel\u001b[0m\u001b[0;34m.\u001b[0m\u001b[0mevaluate\u001b[0m\u001b[0;34m(\u001b[0m\u001b[0mx\u001b[0m\u001b[0;34m=\u001b[0m\u001b[0mtest_X\u001b[0m\u001b[0;34m,\u001b[0m\u001b[0my\u001b[0m\u001b[0;34m=\u001b[0m\u001b[0mtest_Y\u001b[0m\u001b[0;34m)\u001b[0m\u001b[0;34m\u001b[0m\u001b[0;34m\u001b[0m\u001b[0m\n",
      "\u001b[0;31mNameError\u001b[0m: name 'test_Y' is not defined"
     ]
    }
   ],
   "source": [
    "# モデルの精度を測る\n",
    "eval_X = np.load(\"./test/d_or_h_data_test_X.npy\")\n",
    "eval_Y = np.load(\"./test/d_or_h_data_test_Y.npy\")\n",
    "\n",
    "from keras.utils import np_utils\n",
    "\n",
    "# データの整数値を2値クラスの行列に変換\n",
    "eval_Y = np_utils.to_categorical(test_Y, 2)\n",
    "\n",
    "score = model.model.evaluate(x=test_X, y=test_Y)\n",
    "\n",
    "print('loss=', score[0])\n",
    "print('accuracy=', score[1])\n"
   ]
  },
  {
   "cell_type": "code",
   "execution_count": 12,
   "metadata": {},
   "outputs": [
    {
     "ename": "NameError",
     "evalue": "name 'model_from_json' is not defined",
     "output_type": "error",
     "traceback": [
      "\u001b[0;31m---------------------------------------------------------------------------\u001b[0m",
      "\u001b[0;31mNameError\u001b[0m                                 Traceback (most recent call last)",
      "\u001b[0;32m<ipython-input-12-8fc28a7b8e03>\u001b[0m in \u001b[0;36m<module>\u001b[0;34m\u001b[0m\n\u001b[1;32m      1\u001b[0m \u001b[0;31m# モデルの読み込み\u001b[0m\u001b[0;34m\u001b[0m\u001b[0;34m\u001b[0m\u001b[0;34m\u001b[0m\u001b[0m\n\u001b[0;32m----> 2\u001b[0;31m \u001b[0mmodel\u001b[0m \u001b[0;34m=\u001b[0m \u001b[0mmodel_from_json\u001b[0m\u001b[0;34m(\u001b[0m\u001b[0mopen\u001b[0m\u001b[0;34m(\u001b[0m\u001b[0;34m'./model/d_or_h_predict.json'\u001b[0m\u001b[0;34m,\u001b[0m\u001b[0;34m\"w\"\u001b[0m\u001b[0;34m)\u001b[0m\u001b[0;34m.\u001b[0m\u001b[0mread\u001b[0m\u001b[0;34m(\u001b[0m\u001b[0mmodel\u001b[0m\u001b[0;34m.\u001b[0m\u001b[0mmodel\u001b[0m\u001b[0;34m.\u001b[0m\u001b[0mto_json\u001b[0m\u001b[0;34m(\u001b[0m\u001b[0;34m)\u001b[0m\u001b[0;34m)\u001b[0m\u001b[0;34m)\u001b[0m\u001b[0;34m\u001b[0m\u001b[0;34m\u001b[0m\u001b[0m\n\u001b[0m",
      "\u001b[0;31mNameError\u001b[0m: name 'model_from_json' is not defined"
     ]
    }
   ],
   "source": [
    "# モデルの読み込み\n",
    "model = model_from_json(open('./model/d_or_h_predict.json',\"w\").read(model.model.to_json()))\n"
   ]
  },
  {
   "cell_type": "code",
   "execution_count": 13,
   "metadata": {},
   "outputs": [
    {
     "ename": "NameError",
     "evalue": "name 'model' is not defined",
     "output_type": "error",
     "traceback": [
      "\u001b[0;31m---------------------------------------------------------------------------\u001b[0m",
      "\u001b[0;31mNameError\u001b[0m                                 Traceback (most recent call last)",
      "\u001b[0;32m<ipython-input-13-fc63282fcd1c>\u001b[0m in \u001b[0;36m<module>\u001b[0;34m\u001b[0m\n\u001b[1;32m      1\u001b[0m \u001b[0;32mfrom\u001b[0m \u001b[0mkeras\u001b[0m\u001b[0;34m.\u001b[0m\u001b[0mmodels\u001b[0m \u001b[0;32mimport\u001b[0m \u001b[0mSequential\u001b[0m\u001b[0;34m,\u001b[0m \u001b[0mmodel_from_json\u001b[0m\u001b[0;34m\u001b[0m\u001b[0;34m\u001b[0m\u001b[0m\n\u001b[1;32m      2\u001b[0m \u001b[0;31m# モデルの読み込み\u001b[0m\u001b[0;34m\u001b[0m\u001b[0;34m\u001b[0m\u001b[0;34m\u001b[0m\u001b[0m\n\u001b[0;32m----> 3\u001b[0;31m \u001b[0mmodel\u001b[0m \u001b[0;34m=\u001b[0m \u001b[0mmodel_from_json\u001b[0m\u001b[0;34m(\u001b[0m\u001b[0mopen\u001b[0m\u001b[0;34m(\u001b[0m\u001b[0;34m'./model/d_or_h_predict.json'\u001b[0m\u001b[0;34m,\u001b[0m\u001b[0;34m\"w\"\u001b[0m\u001b[0;34m)\u001b[0m\u001b[0;34m.\u001b[0m\u001b[0mread\u001b[0m\u001b[0;34m(\u001b[0m\u001b[0mmodel\u001b[0m\u001b[0;34m.\u001b[0m\u001b[0mmodel\u001b[0m\u001b[0;34m.\u001b[0m\u001b[0mto_json\u001b[0m\u001b[0;34m(\u001b[0m\u001b[0;34m)\u001b[0m\u001b[0;34m)\u001b[0m\u001b[0;34m)\u001b[0m\u001b[0;34m\u001b[0m\u001b[0;34m\u001b[0m\u001b[0m\n\u001b[0m",
      "\u001b[0;31mNameError\u001b[0m: name 'model' is not defined"
     ]
    }
   ],
   "source": [
    "from keras.models import Sequential, model_from_json\n",
    "# モデルの読み込み\n",
    "model = model_from_json(open('./model/d_or_h_predict.json',\"w\").read(model.model.to_json()))"
   ]
  },
  {
   "cell_type": "code",
   "execution_count": 14,
   "metadata": {},
   "outputs": [
    {
     "ename": "NameError",
     "evalue": "name 'model' is not defined",
     "output_type": "error",
     "traceback": [
      "\u001b[0;31m---------------------------------------------------------------------------\u001b[0m",
      "\u001b[0;31mNameError\u001b[0m                                 Traceback (most recent call last)",
      "\u001b[0;32m<ipython-input-14-a87813ffe34d>\u001b[0m in \u001b[0;36m<module>\u001b[0;34m\u001b[0m\n\u001b[0;32m----> 1\u001b[0;31m \u001b[0mprint\u001b[0m\u001b[0;34m(\u001b[0m\u001b[0mmodel\u001b[0m\u001b[0;34m)\u001b[0m\u001b[0;34m\u001b[0m\u001b[0;34m\u001b[0m\u001b[0m\n\u001b[0m",
      "\u001b[0;31mNameError\u001b[0m: name 'model' is not defined"
     ]
    }
   ],
   "source": [
    "print(model)\n"
   ]
  },
  {
   "cell_type": "code",
   "execution_count": null,
   "metadata": {},
   "outputs": [],
   "source": []
  }
 ],
 "metadata": {
  "kernelspec": {
   "display_name": "Python 3",
   "language": "python",
   "name": "python3"
  },
  "language_info": {
   "codemirror_mode": {
    "name": "ipython",
    "version": 3
   },
   "file_extension": ".py",
   "mimetype": "text/x-python",
   "name": "python",
   "nbconvert_exporter": "python",
   "pygments_lexer": "ipython3",
   "version": "3.7.6"
  }
 },
 "nbformat": 4,
 "nbformat_minor": 4
}
